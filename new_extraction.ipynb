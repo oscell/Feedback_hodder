{
 "cells": [
  {
   "cell_type": "code",
   "execution_count": 35,
   "metadata": {},
   "outputs": [],
   "source": [
    "from google.cloud import vision\n",
    "import os\n",
    "\n",
    "def extract_text(image_path):\n",
    "    # Set the path to your service account key file\n",
    "    os.environ[\"GOOGLE_APPLICATION_CREDENTIALS\"] = \"client_secret.json\"\n",
    "    \n",
    "    # Create a Vision API client\n",
    "    client = vision.ImageAnnotatorClient()\n",
    "    \n",
    "    # Load the image file\n",
    "    with open(image_path, \"rb\") as image_file:\n",
    "        content = image_file.read()\n",
    "    \n",
    "    image = vision.Image(content=content)\n",
    "    \n",
    "    image_context = vision.ImageContext(language_hints=[\"en\"])\n",
    "    \n",
    "    # Request document text detection\n",
    "    response = client.document_text_detection(image=image,image_context=image_context)\n",
    "    \n",
    "    # Extract and return the detected text\n",
    "    return response.full_text_annotation.text\n"
   ]
  },
  {
   "cell_type": "code",
   "execution_count": 38,
   "metadata": {},
   "outputs": [],
   "source": [
    "text = extract_text(\"Images/form_2/form_2_front.jpg\")"
   ]
  },
  {
   "cell_type": "code",
   "execution_count": 40,
   "metadata": {},
   "outputs": [
    {
     "name": "stdout",
     "output_type": "stream",
     "text": [
      "Teacher Development Workshop Feedback \" HUVUER Education We value your feedback and are committed to delivering exceptional workshops. We appreciate your time and would be thrilled if you could spare a few moments to answer the following questions about today's training. Your input means the world to us! Workshop title: • Marking like an expert for OCR A-Level Religious Studios. Overall, what was your impression of today's workshop? (Content and depth, trainer(s) delivery & covered programme) Fantastic knowledenkle fraimer group that enables individud good delivery good sze questions. Were there any specific strategies or techniques that stood out to you during the training? In what ways, do you believe the training event will influence your delivery/lesson planning? 'best fit'. Good to know/understand exammer routine and how teachers can interpret this in teaching. What areas of today's workshop require improvement? How can we ensure you attend another event with us? perhaps A/ At band. What specifically A/A* helps push students adurce/tedanique would you like to explore in future training events? Are more up What other topics or reas of professional devel there any specific needs or interests you have in mind? based! All RS RS / Philoschy own on that to that Ate?' Incorporate some e best ess -Structur Please turn over\n"
     ]
    },
    {
     "data": {
      "text/plain": [
       "['• Marking like an expert for OCR A-Level Religious Studios.',\n",
       " 'Fantastic knowledenkle fraimer group that enables individud good delivery good sze questions.',\n",
       " \"'best fit'. Good to know/understand exammer routine and how teachers can interpret this in teaching.\",\n",
       " \"perhaps A/ At band. What specifically A/A* helps push students adurce/tedanique would you like to explore in future training events? Are more up What other topics or reas of professional devel there any specific needs or interests you have in mind? based! All RS RS / Philoschy own on that to that Ate?' Incorporate some e best ess -Structur Please turn over\"]"
      ]
     },
     "execution_count": 40,
     "metadata": {},
     "output_type": "execute_result"
    },
    {
     "ename": "",
     "evalue": "",
     "output_type": "error",
     "traceback": [
      "\u001b[1;31mThe Kernel crashed while executing code in the current cell or a previous cell. \n",
      "\u001b[1;31mPlease review the code in the cell(s) to identify a possible cause of the failure. \n",
      "\u001b[1;31mClick <a href='https://aka.ms/vscodeJupyterKernelCrash'>here</a> for more info. \n",
      "\u001b[1;31mView Jupyter <a href='command:jupyter.viewOutput'>log</a> for further details."
     ]
    }
   ],
   "source": [
    "\n",
    "\n",
    "import re\n",
    "\n",
    "\n",
    "text = text.replace('\\n', ' ')\n",
    "\n",
    "print(text)\n",
    "\n",
    "# Known question prompts to split the text. Add more as needed.\n",
    "question_prompts = [\n",
    "    \"Workshop title:\",\n",
    "    \"Overall, what was your impression of today's workshop? Content and depth, trainer(s) delivery & covered programme\",\n",
    "    \"Overall, what was your impression of today's workshop? (Content and depth, trainer(s) delivery & covered programme)\",\n",
    "    \"Were there any specific strategies or techniques that stood out to you during the training? In what ways, do you believe the training event will influence your delivery/lesson planning?\",\n",
    "    \"What areas of today's workshop require improvement? How can we ensure you attend another event with us?\",\n",
    "    \"What other topics or areas of professional development would you like to explore in future training events? Are there any specific needs or interests you have in mind?\",\n",
    "]\n",
    "\n",
    "\n",
    "\n",
    "# Split the text using the question prompts\n",
    "split_regex = '|'.join(map(re.escape, question_prompts))\n",
    "segments = re.split(split_regex, text)\n",
    "\n",
    "# The first segment is usually the intro or irrelevant, so we discard it\n",
    "answers = [segment.strip() for segment in segments[1:]]\n",
    "\n",
    "# Show the extracted answers\n",
    "answers\n",
    "\n"
   ]
  }
 ],
 "metadata": {
  "kernelspec": {
   "display_name": "Python 3",
   "language": "python",
   "name": "python3"
  },
  "language_info": {
   "codemirror_mode": {
    "name": "ipython",
    "version": 3
   },
   "file_extension": ".py",
   "mimetype": "text/x-python",
   "name": "python",
   "nbconvert_exporter": "python",
   "pygments_lexer": "ipython3",
   "version": "3.11.8"
  }
 },
 "nbformat": 4,
 "nbformat_minor": 2
}
